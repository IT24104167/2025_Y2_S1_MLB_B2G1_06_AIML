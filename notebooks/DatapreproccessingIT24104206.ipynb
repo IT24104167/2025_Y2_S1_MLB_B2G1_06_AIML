{
 "cells": [
  {
   "cell_type": "code",
   "execution_count": 2,
   "id": "50cd51c2-8cc8-4921-90cc-b8ee08b7556d",
   "metadata": {},
   "outputs": [],
   "source": [
    "#2025_Y2_S1_MLB_B2G1_06\n",
    "#Handle Missing Values\n",
    "\n",
    "import pandas as pd\n",
    "import numpy as np\n",
    "import seaborn as sns\n",
    "import matplotlib.pyplot as plt\n",
    "%matplotlib inline"
   ]
  },
  {
   "cell_type": "code",
   "execution_count": 3,
   "id": "ff954211-4a2e-4e1f-b600-18dc7f3eefcb",
   "metadata": {},
   "outputs": [],
   "source": [
    "#Load the dataset\n",
    "df=pd.read_csv('data_file.csv')"
   ]
  },
  {
   "cell_type": "code",
   "execution_count": 4,
   "id": "1e6199d3-1f48-4830-b637-c691500aef0b",
   "metadata": {},
   "outputs": [
    {
     "name": "stdout",
     "output_type": "stream",
     "text": [
      "First 5 rows:\n"
     ]
    },
    {
     "data": {
      "text/html": [
       "<div>\n",
       "<style scoped>\n",
       "    .dataframe tbody tr th:only-of-type {\n",
       "        vertical-align: middle;\n",
       "    }\n",
       "\n",
       "    .dataframe tbody tr th {\n",
       "        vertical-align: top;\n",
       "    }\n",
       "\n",
       "    .dataframe thead th {\n",
       "        text-align: right;\n",
       "    }\n",
       "</style>\n",
       "<table border=\"1\" class=\"dataframe\">\n",
       "  <thead>\n",
       "    <tr style=\"text-align: right;\">\n",
       "      <th></th>\n",
       "      <th>FileName</th>\n",
       "      <th>md5Hash</th>\n",
       "      <th>Machine</th>\n",
       "      <th>DebugSize</th>\n",
       "      <th>DebugRVA</th>\n",
       "      <th>MajorImageVersion</th>\n",
       "      <th>MajorOSVersion</th>\n",
       "      <th>ExportRVA</th>\n",
       "      <th>ExportSize</th>\n",
       "      <th>IatVRA</th>\n",
       "      <th>MajorLinkerVersion</th>\n",
       "      <th>MinorLinkerVersion</th>\n",
       "      <th>NumberOfSections</th>\n",
       "      <th>SizeOfStackReserve</th>\n",
       "      <th>DllCharacteristics</th>\n",
       "      <th>ResourceSize</th>\n",
       "      <th>BitcoinAddresses</th>\n",
       "      <th>Benign</th>\n",
       "    </tr>\n",
       "  </thead>\n",
       "  <tbody>\n",
       "    <tr>\n",
       "      <th>0</th>\n",
       "      <td>0124e21d-018c-4ce0-92a3-b9e205a76bc0.dll</td>\n",
       "      <td>79755c51e413ed3c6be4635fd729a6e1</td>\n",
       "      <td>332</td>\n",
       "      <td>0</td>\n",
       "      <td>0</td>\n",
       "      <td>0</td>\n",
       "      <td>4</td>\n",
       "      <td>0</td>\n",
       "      <td>0</td>\n",
       "      <td>8192</td>\n",
       "      <td>8</td>\n",
       "      <td>0</td>\n",
       "      <td>3</td>\n",
       "      <td>1048576</td>\n",
       "      <td>34112</td>\n",
       "      <td>672</td>\n",
       "      <td>0</td>\n",
       "      <td>1</td>\n",
       "    </tr>\n",
       "    <tr>\n",
       "      <th>1</th>\n",
       "      <td>05c8318f98a5d301d80000009c316005.vertdll.dll</td>\n",
       "      <td>95e19f3657d34a432eada93221b0ea16</td>\n",
       "      <td>34404</td>\n",
       "      <td>84</td>\n",
       "      <td>121728</td>\n",
       "      <td>10</td>\n",
       "      <td>10</td>\n",
       "      <td>126576</td>\n",
       "      <td>4930</td>\n",
       "      <td>0</td>\n",
       "      <td>14</td>\n",
       "      <td>10</td>\n",
       "      <td>8</td>\n",
       "      <td>262144</td>\n",
       "      <td>16864</td>\n",
       "      <td>1024</td>\n",
       "      <td>0</td>\n",
       "      <td>1</td>\n",
       "    </tr>\n",
       "    <tr>\n",
       "      <th>2</th>\n",
       "      <td>06054fba-5619-4a86-a861-ffb0464bef5d.dll</td>\n",
       "      <td>85c32641d77a54e19ba8ea4ab305c791</td>\n",
       "      <td>332</td>\n",
       "      <td>0</td>\n",
       "      <td>0</td>\n",
       "      <td>0</td>\n",
       "      <td>4</td>\n",
       "      <td>0</td>\n",
       "      <td>0</td>\n",
       "      <td>8192</td>\n",
       "      <td>8</td>\n",
       "      <td>0</td>\n",
       "      <td>3</td>\n",
       "      <td>1048576</td>\n",
       "      <td>34112</td>\n",
       "      <td>672</td>\n",
       "      <td>0</td>\n",
       "      <td>1</td>\n",
       "    </tr>\n",
       "    <tr>\n",
       "      <th>3</th>\n",
       "      <td>075822ac99a5d301660400009c316005.adhapi.dll</td>\n",
       "      <td>62e3b959d982ef534b66f819fe15f085</td>\n",
       "      <td>34404</td>\n",
       "      <td>84</td>\n",
       "      <td>19904</td>\n",
       "      <td>10</td>\n",
       "      <td>10</td>\n",
       "      <td>21312</td>\n",
       "      <td>252</td>\n",
       "      <td>18160</td>\n",
       "      <td>14</td>\n",
       "      <td>10</td>\n",
       "      <td>6</td>\n",
       "      <td>262144</td>\n",
       "      <td>16736</td>\n",
       "      <td>1040</td>\n",
       "      <td>0</td>\n",
       "      <td>1</td>\n",
       "    </tr>\n",
       "    <tr>\n",
       "      <th>4</th>\n",
       "      <td>090607dd9ba5d301ca0900009c316005.SensorsNative...</td>\n",
       "      <td>ae38c5f7d313ad0ff3bfb8826476767f</td>\n",
       "      <td>34404</td>\n",
       "      <td>84</td>\n",
       "      <td>97728</td>\n",
       "      <td>10</td>\n",
       "      <td>10</td>\n",
       "      <td>105792</td>\n",
       "      <td>1852</td>\n",
       "      <td>70592</td>\n",
       "      <td>14</td>\n",
       "      <td>10</td>\n",
       "      <td>7</td>\n",
       "      <td>262144</td>\n",
       "      <td>16736</td>\n",
       "      <td>1096</td>\n",
       "      <td>0</td>\n",
       "      <td>1</td>\n",
       "    </tr>\n",
       "  </tbody>\n",
       "</table>\n",
       "</div>"
      ],
      "text/plain": [
       "                                            FileName  \\\n",
       "0           0124e21d-018c-4ce0-92a3-b9e205a76bc0.dll   \n",
       "1       05c8318f98a5d301d80000009c316005.vertdll.dll   \n",
       "2           06054fba-5619-4a86-a861-ffb0464bef5d.dll   \n",
       "3        075822ac99a5d301660400009c316005.adhapi.dll   \n",
       "4  090607dd9ba5d301ca0900009c316005.SensorsNative...   \n",
       "\n",
       "                            md5Hash  Machine  DebugSize  DebugRVA  \\\n",
       "0  79755c51e413ed3c6be4635fd729a6e1      332          0         0   \n",
       "1  95e19f3657d34a432eada93221b0ea16    34404         84    121728   \n",
       "2  85c32641d77a54e19ba8ea4ab305c791      332          0         0   \n",
       "3  62e3b959d982ef534b66f819fe15f085    34404         84     19904   \n",
       "4  ae38c5f7d313ad0ff3bfb8826476767f    34404         84     97728   \n",
       "\n",
       "   MajorImageVersion  MajorOSVersion  ExportRVA  ExportSize  IatVRA  \\\n",
       "0                  0               4          0           0    8192   \n",
       "1                 10              10     126576        4930       0   \n",
       "2                  0               4          0           0    8192   \n",
       "3                 10              10      21312         252   18160   \n",
       "4                 10              10     105792        1852   70592   \n",
       "\n",
       "   MajorLinkerVersion  MinorLinkerVersion  NumberOfSections  \\\n",
       "0                   8                   0                 3   \n",
       "1                  14                  10                 8   \n",
       "2                   8                   0                 3   \n",
       "3                  14                  10                 6   \n",
       "4                  14                  10                 7   \n",
       "\n",
       "   SizeOfStackReserve  DllCharacteristics  ResourceSize  BitcoinAddresses  \\\n",
       "0             1048576               34112           672                 0   \n",
       "1              262144               16864          1024                 0   \n",
       "2             1048576               34112           672                 0   \n",
       "3              262144               16736          1040                 0   \n",
       "4              262144               16736          1096                 0   \n",
       "\n",
       "   Benign  \n",
       "0       1  \n",
       "1       1  \n",
       "2       1  \n",
       "3       1  \n",
       "4       1  "
      ]
     },
     "metadata": {},
     "output_type": "display_data"
    },
    {
     "name": "stdout",
     "output_type": "stream",
     "text": [
      "\n",
      "Last 5 rows:\n"
     ]
    },
    {
     "data": {
      "text/html": [
       "<div>\n",
       "<style scoped>\n",
       "    .dataframe tbody tr th:only-of-type {\n",
       "        vertical-align: middle;\n",
       "    }\n",
       "\n",
       "    .dataframe tbody tr th {\n",
       "        vertical-align: top;\n",
       "    }\n",
       "\n",
       "    .dataframe thead th {\n",
       "        text-align: right;\n",
       "    }\n",
       "</style>\n",
       "<table border=\"1\" class=\"dataframe\">\n",
       "  <thead>\n",
       "    <tr style=\"text-align: right;\">\n",
       "      <th></th>\n",
       "      <th>FileName</th>\n",
       "      <th>md5Hash</th>\n",
       "      <th>Machine</th>\n",
       "      <th>DebugSize</th>\n",
       "      <th>DebugRVA</th>\n",
       "      <th>MajorImageVersion</th>\n",
       "      <th>MajorOSVersion</th>\n",
       "      <th>ExportRVA</th>\n",
       "      <th>ExportSize</th>\n",
       "      <th>IatVRA</th>\n",
       "      <th>MajorLinkerVersion</th>\n",
       "      <th>MinorLinkerVersion</th>\n",
       "      <th>NumberOfSections</th>\n",
       "      <th>SizeOfStackReserve</th>\n",
       "      <th>DllCharacteristics</th>\n",
       "      <th>ResourceSize</th>\n",
       "      <th>BitcoinAddresses</th>\n",
       "      <th>Benign</th>\n",
       "    </tr>\n",
       "  </thead>\n",
       "  <tbody>\n",
       "    <tr>\n",
       "      <th>62480</th>\n",
       "      <td>VirusShare_a43ceb5e5fffc793e0205d15a0606cb0</td>\n",
       "      <td>a43ceb5e5fffc793e0205d15a0606cb0</td>\n",
       "      <td>332</td>\n",
       "      <td>0</td>\n",
       "      <td>0</td>\n",
       "      <td>1</td>\n",
       "      <td>4</td>\n",
       "      <td>0</td>\n",
       "      <td>0</td>\n",
       "      <td>4096</td>\n",
       "      <td>6</td>\n",
       "      <td>0</td>\n",
       "      <td>3</td>\n",
       "      <td>1048576</td>\n",
       "      <td>0</td>\n",
       "      <td>23504</td>\n",
       "      <td>0</td>\n",
       "      <td>0</td>\n",
       "    </tr>\n",
       "    <tr>\n",
       "      <th>62481</th>\n",
       "      <td>VirusShare_0190dafc8304111a00fccf57340ea6a4</td>\n",
       "      <td>0190dafc8304111a00fccf57340ea6a4</td>\n",
       "      <td>332</td>\n",
       "      <td>0</td>\n",
       "      <td>0</td>\n",
       "      <td>7</td>\n",
       "      <td>10</td>\n",
       "      <td>0</td>\n",
       "      <td>0</td>\n",
       "      <td>0</td>\n",
       "      <td>7</td>\n",
       "      <td>0</td>\n",
       "      <td>7</td>\n",
       "      <td>1048576</td>\n",
       "      <td>0</td>\n",
       "      <td>15704</td>\n",
       "      <td>0</td>\n",
       "      <td>0</td>\n",
       "    </tr>\n",
       "    <tr>\n",
       "      <th>62482</th>\n",
       "      <td>VirusShare_0f3ca55979aaf59158d6b01140696e44</td>\n",
       "      <td>0f3ca55979aaf59158d6b01140696e44</td>\n",
       "      <td>332</td>\n",
       "      <td>0</td>\n",
       "      <td>0</td>\n",
       "      <td>0</td>\n",
       "      <td>4</td>\n",
       "      <td>0</td>\n",
       "      <td>0</td>\n",
       "      <td>404908</td>\n",
       "      <td>2</td>\n",
       "      <td>50</td>\n",
       "      <td>11</td>\n",
       "      <td>1048576</td>\n",
       "      <td>0</td>\n",
       "      <td>2364</td>\n",
       "      <td>0</td>\n",
       "      <td>0</td>\n",
       "    </tr>\n",
       "    <tr>\n",
       "      <th>62483</th>\n",
       "      <td>VirusShare_fca5ce35f1690db6babca5aa5d559535</td>\n",
       "      <td>fca5ce35f1690db6babca5aa5d559535</td>\n",
       "      <td>332</td>\n",
       "      <td>0</td>\n",
       "      <td>0</td>\n",
       "      <td>0</td>\n",
       "      <td>4</td>\n",
       "      <td>14448</td>\n",
       "      <td>70</td>\n",
       "      <td>4096</td>\n",
       "      <td>8</td>\n",
       "      <td>0</td>\n",
       "      <td>4</td>\n",
       "      <td>1048576</td>\n",
       "      <td>0</td>\n",
       "      <td>130296</td>\n",
       "      <td>0</td>\n",
       "      <td>0</td>\n",
       "    </tr>\n",
       "    <tr>\n",
       "      <th>62484</th>\n",
       "      <td>VirusShare_d7955a7e6d1e16800feafd4204cbac2b</td>\n",
       "      <td>d7955a7e6d1e16800feafd4204cbac2b</td>\n",
       "      <td>332</td>\n",
       "      <td>0</td>\n",
       "      <td>0</td>\n",
       "      <td>0</td>\n",
       "      <td>5</td>\n",
       "      <td>0</td>\n",
       "      <td>0</td>\n",
       "      <td>4096</td>\n",
       "      <td>9</td>\n",
       "      <td>0</td>\n",
       "      <td>6</td>\n",
       "      <td>1048576</td>\n",
       "      <td>0</td>\n",
       "      <td>6912</td>\n",
       "      <td>0</td>\n",
       "      <td>0</td>\n",
       "    </tr>\n",
       "  </tbody>\n",
       "</table>\n",
       "</div>"
      ],
      "text/plain": [
       "                                          FileName  \\\n",
       "62480  VirusShare_a43ceb5e5fffc793e0205d15a0606cb0   \n",
       "62481  VirusShare_0190dafc8304111a00fccf57340ea6a4   \n",
       "62482  VirusShare_0f3ca55979aaf59158d6b01140696e44   \n",
       "62483  VirusShare_fca5ce35f1690db6babca5aa5d559535   \n",
       "62484  VirusShare_d7955a7e6d1e16800feafd4204cbac2b   \n",
       "\n",
       "                                md5Hash  Machine  DebugSize  DebugRVA  \\\n",
       "62480  a43ceb5e5fffc793e0205d15a0606cb0      332          0         0   \n",
       "62481  0190dafc8304111a00fccf57340ea6a4      332          0         0   \n",
       "62482  0f3ca55979aaf59158d6b01140696e44      332          0         0   \n",
       "62483  fca5ce35f1690db6babca5aa5d559535      332          0         0   \n",
       "62484  d7955a7e6d1e16800feafd4204cbac2b      332          0         0   \n",
       "\n",
       "       MajorImageVersion  MajorOSVersion  ExportRVA  ExportSize  IatVRA  \\\n",
       "62480                  1               4          0           0    4096   \n",
       "62481                  7              10          0           0       0   \n",
       "62482                  0               4          0           0  404908   \n",
       "62483                  0               4      14448          70    4096   \n",
       "62484                  0               5          0           0    4096   \n",
       "\n",
       "       MajorLinkerVersion  MinorLinkerVersion  NumberOfSections  \\\n",
       "62480                   6                   0                 3   \n",
       "62481                   7                   0                 7   \n",
       "62482                   2                  50                11   \n",
       "62483                   8                   0                 4   \n",
       "62484                   9                   0                 6   \n",
       "\n",
       "       SizeOfStackReserve  DllCharacteristics  ResourceSize  BitcoinAddresses  \\\n",
       "62480             1048576                   0         23504                 0   \n",
       "62481             1048576                   0         15704                 0   \n",
       "62482             1048576                   0          2364                 0   \n",
       "62483             1048576                   0        130296                 0   \n",
       "62484             1048576                   0          6912                 0   \n",
       "\n",
       "       Benign  \n",
       "62480       0  \n",
       "62481       0  \n",
       "62482       0  \n",
       "62483       0  \n",
       "62484       0  "
      ]
     },
     "metadata": {},
     "output_type": "display_data"
    }
   ],
   "source": [
    "#Display first and last rows\n",
    "print(\"First 5 rows:\")\n",
    "display(df.head())\n",
    "print(\"\\nLast 5 rows:\")\n",
    "display(df.tail())"
   ]
  },
  {
   "cell_type": "code",
   "execution_count": 5,
   "id": "617e82a0-bf17-42b1-80f0-9fe5f2a192bf",
   "metadata": {},
   "outputs": [
    {
     "name": "stdout",
     "output_type": "stream",
     "text": [
      "\n",
      "Data Types:\n",
      "FileName              object\n",
      "md5Hash               object\n",
      "Machine                int64\n",
      "DebugSize              int64\n",
      "DebugRVA               int64\n",
      "MajorImageVersion      int64\n",
      "MajorOSVersion         int64\n",
      "ExportRVA              int64\n",
      "ExportSize             int64\n",
      "IatVRA                 int64\n",
      "MajorLinkerVersion     int64\n",
      "MinorLinkerVersion     int64\n",
      "NumberOfSections       int64\n",
      "SizeOfStackReserve     int64\n",
      "DllCharacteristics     int64\n",
      "ResourceSize           int64\n",
      "BitcoinAddresses       int64\n",
      "Benign                 int64\n",
      "dtype: object\n"
     ]
    }
   ],
   "source": [
    "#check data types\n",
    "print(\"\\nData Types:\")\n",
    "print(df.dtypes)"
   ]
  },
  {
   "cell_type": "code",
   "execution_count": 6,
   "id": "d72a583a-f2d4-4049-9000-0e48b19b6efc",
   "metadata": {},
   "outputs": [],
   "source": [
    "#Remove irrelevant columns\n",
    "df=df.drop(['FileName','md5Hash'],axis=1,errors='ignore')"
   ]
  },
  {
   "cell_type": "code",
   "execution_count": 7,
   "id": "1aace612-90c4-4521-a408-ffea1297aca6",
   "metadata": {},
   "outputs": [
    {
     "name": "stdout",
     "output_type": "stream",
     "text": [
      "\n",
      "Missing values report:\n",
      "Machine               0\n",
      "DebugSize             0\n",
      "DebugRVA              0\n",
      "MajorImageVersion     0\n",
      "MajorOSVersion        0\n",
      "ExportRVA             0\n",
      "ExportSize            0\n",
      "IatVRA                0\n",
      "MajorLinkerVersion    0\n",
      "MinorLinkerVersion    0\n",
      "NumberOfSections      0\n",
      "SizeOfStackReserve    0\n",
      "DllCharacteristics    0\n",
      "ResourceSize          0\n",
      "BitcoinAddresses      0\n",
      "Benign                0\n",
      "dtype: int64\n",
      "No missing values found.\n"
     ]
    }
   ],
   "source": [
    "#Check and report missing values\n",
    "print(\"\\nMissing values report:\")\n",
    "missing_values=df.isnull().sum()\n",
    "print(missing_values)\n",
    "if missing_values.sum()==0:\n",
    "    print(\"No missing values found.\")\n",
    "else:\n",
    "    print(\"Missing values present;\")"
   ]
  },
  {
   "cell_type": "code",
   "execution_count": 8,
   "id": "3f701789-7a22-4adf-8ae6-a524b2f0470b",
   "metadata": {},
   "outputs": [
    {
     "name": "stdout",
     "output_type": "stream",
     "text": [
      "\n",
      "Shape of dataframe (62485, 16)\n"
     ]
    }
   ],
   "source": [
    "#check for duplicate rows\n",
    "#check dimension of the dataframe\n",
    "print(\"\\nShape of dataframe\",df.shape)"
   ]
  },
  {
   "cell_type": "code",
   "execution_count": 9,
   "id": "01c22734-7fed-44ea-9987-b9e6dc7879d5",
   "metadata": {},
   "outputs": [
    {
     "name": "stdout",
     "output_type": "stream",
     "text": [
      "\n",
      " 30229 of duplicate rows:\n"
     ]
    }
   ],
   "source": [
    "#find the duplicate rows\n",
    "duplicate_rows_df=df[df.duplicated()]\n",
    "print(\"\\nNumber of duplicate rows:\",duplicate_rows_df.shape[0])\n",
    "if duplicate_rows_df.shape[0]==0:\n",
    "    print(\"No duplicate entries found.\")"
   ]
  },
  {
   "cell_type": "code",
   "execution_count": 10,
   "id": "8f7aac34-4240-4c7c-9a0b-abdbba4ce25d",
   "metadata": {},
   "outputs": [
    {
     "name": "stdout",
     "output_type": "stream",
     "text": [
      "\n",
      "Shape after removing duplicates: (32256, 16)\n",
      "Confirmed no duplicate entries after removal.\n"
     ]
    }
   ],
   "source": [
    "#remove duplicate rows\n",
    "df=df.drop_duplicates()\n",
    "print(\"\\nShape after removing duplicates:\",df.shape)\n",
    "print(\"Confirmed no duplicate entries after removal.\")"
   ]
  },
  {
   "cell_type": "code",
   "execution_count": null,
   "id": "65cd2254-e1f6-4be8-8b98-214b5de08fa9",
   "metadata": {},
   "outputs": [],
   "source": []
  },
  {
   "cell_type": "code",
   "execution_count": 12,
   "id": "6d78e559-07e9-4087-82f6-1c0c71caccff",
   "metadata": {},
   "outputs": [],
   "source": [
    "#detect outliers in numerical features\n",
    "outlier_cols=['DebugSize','ExportSize','ResourceSize']"
   ]
  },
  {
   "cell_type": "code",
   "execution_count": 14,
   "id": "1550c10a-3a55-45ea-bba0-1c65d5ca2439",
   "metadata": {},
   "outputs": [
    {
     "data": {
      "image/png": "[encoded data removed]",
      "text/plain": [
       "<Figure size 800x400 with 1 Axes>"
      ]
     },
     "metadata": {},
     "output_type": "display_data"
    },
    {
     "data": {
      "image/png": "[encoded data removed]",
      "text/plain": [
       "<Figure size 800x400 with 1 Axes>"
      ]
     },
     "metadata": {},
     "output_type": "display_data"
    },
    {
     "data": {
      "image/png": "[encoded data removed]",
      "text/plain": [
       "<Figure size 800x400 with 1 Axes>"
      ]
     },
     "metadata": {},
     "output_type": "display_data"
    }
   ],
   "source": [
    "#box plots for selected variables\n",
    "for col in outlier_cols:\n",
    "    plt.figure(figsize=(8,4))\n",
    "    sns.boxplot(x=df[col])\n",
    "    plt.title(f'Boxplot for {col}')\n",
    "    plt.show()"
   ]
  },
  {
   "cell_type": "code",
   "execution_count": 25,
   "id": "7db27da3-51ae-4a34-94ce-9c92dea428d4",
   "metadata": {},
   "outputs": [
    {
     "name": "stdout",
     "output_type": "stream",
     "text": [
      "\n",
      "Skewness of DebugSize: 179.59955456093692\n",
      "No log transform applied to DebugSize.\n",
      "\n",
      "Skewness of ExportSize: 65.09473094948198\n",
      "No log transform applied to ExportSize.\n",
      "\n",
      "Skewness of ResourceSize: 175.49716402889325\n",
      "No log transform applied to ResourceSize.\n"
     ]
    }
   ],
   "source": [
    "#check skewness and apply log transform if skewed\n",
    "for col in outlier_cols:\n",
    "    skewness=df[col].skew()\n",
    "    print(f\"\\nSkewness of {col}: {skewness}\")\n",
    "    if abs(skewness) >1 and (df[col] >0).all():\n",
    "        print(f\"Applying log transform to {col} due to high skewness.\")\n",
    "        df[col]=np.log1p(df[col])\n",
    "    else:\n",
    "        print(f\"No log transform applied to {col}.\")\n",
    "        "
   ]
  },
  {
   "cell_type": "code",
   "execution_count": null,
   "id": "4c5676d7-94dd-4e89-8b08-37b0b9039ffc",
   "metadata": {},
   "outputs": [],
   "source": []
  },
  {
   "cell_type": "code",
   "execution_count": 28,
   "id": "1448ef07-5a5a-4032-8a56-6f3727f8c45b",
   "metadata": {},
   "outputs": [],
   "source": [
    "# IT24104206 - Nawarathna M.S.G.\n",
    "# Removing Outliers"
   ]
  },
  {
   "cell_type": "code",
   "execution_count": 30,
   "id": "e4cc939d-f418-49df-beae-72afe6971bb2",
   "metadata": {},
   "outputs": [],
   "source": [
    "#calculate Q1,Q2,Q3,IQR for numeric columns afet log transform\n",
    "numeric_cols=df.select_dtypes(include=np.number).columns\n",
    "Q1=df[numeric_cols].quantile(0.25)\n",
    "Q3=df[numeric_cols].quantile(0.75)\n",
    "IQR=Q3-Q1"
   ]
  },
  {
   "cell_type": "code",
   "execution_count": 32,
   "id": "c46bbafd-5ce7-4330-8366-12f9374e16df",
   "metadata": {},
   "outputs": [
    {
     "name": "stdout",
     "output_type": "stream",
     "text": [
      "Number of outliers in DebugSize:18\n",
      "Number of outliers in ExportSize:4595\n",
      "Number of outliers in ResourceSize:5277\n"
     ]
    }
   ],
   "source": [
    "#report number of outliers per column\n",
    "for col in outlier_cols:\n",
    "    outliers=((df[col] < (Q1[col]- 1.5 * IQR[col])) | (df[col] > (Q3[col] + 1.5 * IQR[col]))).sum()\n",
    "    print(f\"Number of outliers in {col}:{outliers}\")"
   ]
  },
  {
   "cell_type": "code",
   "execution_count": 34,
   "id": "f128672c-1bda-443d-b700-61000378c15d",
   "metadata": {},
   "outputs": [
    {
     "name": "stdout",
     "output_type": "stream",
     "text": [
      "\n",
      "Shape after removing outliers: (15222, 16)\n"
     ]
    }
   ],
   "source": [
    "#remove outliers using IQR\n",
    "condition= ~ ((df[numeric_cols] < (Q1- 1.5 * IQR)) | (df[numeric_cols] >(Q3 + 1.5 * IQR ))).any(axis=1)\n",
    "df=df[condition]\n",
    "print(\"\\nShape after removing outliers:\",df.shape)"
   ]
  },
  {
   "cell_type": "code",
   "execution_count": 36,
   "id": "b6040e00-038f-4b00-982a-3f07cc1add96",
   "metadata": {},
   "outputs": [
    {
     "name": "stdout",
     "output_type": "stream",
     "text": [
      "\n",
      "Boxplots AFTER Outlier Removal \n"
     ]
    },
    {
     "data": {
      "image/png": "[encoded data removed]",
      "text/plain": [
       "<Figure size 1000x600 with 1 Axes>"
      ]
     },
     "metadata": {},
     "output_type": "display_data"
    },
    {
     "data": {
      "image/png": "[encoded data removed]",
      "text/plain": [
       "<Figure size 1000x600 with 1 Axes>"
      ]
     },
     "metadata": {},
     "output_type": "display_data"
    },
    {
     "data": {
      "image/png": "[encoded data removed]",
      "text/plain": [
       "<Figure size 1000x600 with 1 Axes>"
      ]
     },
     "metadata": {},
     "output_type": "display_data"
    }
   ],
   "source": [
    "#After outlier removal boxplot\n",
    "\n",
    "print(\"\\nBoxplots AFTER Outlier Removal \")\n",
    "for col in outlier_cols:\n",
    "    plt.figure(figsize=(10, 6))\n",
    "    sns.boxplot(x=df[col])\n",
    "    plt.title(f'Boxplot for {col} (After Outlier Removal)')\n",
    "    plt.xlabel(col)\n",
    "    plt.show()"
   ]
  },
  {
   "cell_type": "code",
   "execution_count": null,
   "id": "b7fa7464-bccc-4d44-9a95-c8baf73644e8",
   "metadata": {},
   "outputs": [],
   "source": []
  }
 ],
 "metadata": {
  "kernelspec": {
   "display_name": "Python 3 (ipykernel)",
   "language": "python",
   "name": "python3"
  },
  "language_info": {
   "codemirror_mode": {
    "name": "ipython",
    "version": 3
   },
   "file_extension": ".py",
   "mimetype": "text/x-python",
   "name": "python",
   "nbconvert_exporter": "python",
   "pygments_lexer": "ipython3",
   "version": "3.12.7"
  }
 },
 "nbformat": 4,
 "nbformat_minor": 5
}
